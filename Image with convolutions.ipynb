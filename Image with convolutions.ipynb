{
 "cells": [
  {
   "cell_type": "code",
   "execution_count": 1,
   "metadata": {},
   "outputs": [],
   "source": [
    "import tensorflow as tf\n",
    "from tensorflow import keras\n",
    "import matplotlib.pyplot as plt\n",
    "import numpy as np"
   ]
  },
  {
   "cell_type": "code",
   "execution_count": 23,
   "metadata": {},
   "outputs": [],
   "source": [
    "fashion_mnist = keras.datasets.fashion_mnist\n",
    "(trainx, trainy) , (testx, testy) = fashion_mnist.load_data()\n",
    "trainx = trainx.reshape(60000,28,28,1)/255\n",
    "testx = testx.reshape(10000,28,28,1)/255"
   ]
  },
  {
   "cell_type": "code",
   "execution_count": 26,
   "metadata": {},
   "outputs": [
    {
     "name": "stdout",
     "output_type": "stream",
     "text": [
      "Model: \"sequential_8\"\n",
      "_________________________________________________________________\n",
      "Layer (type)                 Output Shape              Param #   \n",
      "=================================================================\n",
      "conv2d_12 (Conv2D)           (None, 26, 26, 32)        320       \n",
      "_________________________________________________________________\n",
      "max_pooling2d_12 (MaxPooling (None, 13, 13, 32)        0         \n",
      "_________________________________________________________________\n",
      "flatten_8 (Flatten)          (None, 5408)              0         \n",
      "_________________________________________________________________\n",
      "dense_16 (Dense)             (None, 128)               692352    \n",
      "_________________________________________________________________\n",
      "dense_17 (Dense)             (None, 10)                1290      \n",
      "=================================================================\n",
      "Total params: 693,962\n",
      "Trainable params: 693,962\n",
      "Non-trainable params: 0\n",
      "_________________________________________________________________\n"
     ]
    }
   ],
   "source": [
    "model = tf.keras.models.Sequential([\n",
    "  tf.keras.layers.Conv2D(32, (3,3), activation='relu', input_shape=(28, 28, 1)),\n",
    "  tf.keras.layers.MaxPooling2D(2, 2),\n",
    "  tf.keras.layers.Flatten(),\n",
    "  tf.keras.layers.Dense(128, activation='relu'),\n",
    "  tf.keras.layers.Dense(10, activation='softmax')\n",
    "])\n",
    "model.compile(optimizer='adam', loss='sparse_categorical_crossentropy', metrics=['accuracy'])\n",
    "model.summary()"
   ]
  },
  {
   "cell_type": "code",
   "execution_count": 27,
   "metadata": {},
   "outputs": [
    {
     "name": "stdout",
     "output_type": "stream",
     "text": [
      "Train on 60000 samples\n",
      "Epoch 1/10\n",
      "60000/60000 [==============================] - 18s 300us/sample - loss: 0.3915 - acc: 0.8606\n",
      "Epoch 2/10\n",
      "60000/60000 [==============================] - 18s 305us/sample - loss: 0.2632 - acc: 0.9029\n",
      "Epoch 3/10\n",
      "60000/60000 [==============================] - 19s 322us/sample - loss: 0.2186 - acc: 0.9198\n",
      "Epoch 4/10\n",
      "60000/60000 [==============================] - 19s 312us/sample - loss: 0.1869 - acc: 0.9309\n",
      "Epoch 5/10\n",
      "60000/60000 [==============================] - 19s 317us/sample - loss: 0.1588 - acc: 0.9418\n",
      "Epoch 6/10\n",
      "60000/60000 [==============================] - 19s 315us/sample - loss: 0.1377 - acc: 0.9492\n",
      "Epoch 7/10\n",
      "60000/60000 [==============================] - 19s 313us/sample - loss: 0.1163 - acc: 0.9576\n",
      "Epoch 8/10\n",
      "60000/60000 [==============================] - 19s 317us/sample - loss: 0.0998 - acc: 0.9640\n",
      "Epoch 9/10\n",
      "60000/60000 [==============================] - 19s 318us/sample - loss: 0.0854 - acc: 0.9692\n",
      "Epoch 10/10\n",
      "60000/60000 [==============================] - 19s 315us/sample - loss: 0.0710 - acc: 0.9736\n"
     ]
    },
    {
     "data": {
      "text/plain": [
       "<tensorflow.python.keras.callbacks.History at 0x134895c50>"
      ]
     },
     "execution_count": 27,
     "metadata": {},
     "output_type": "execute_result"
    }
   ],
   "source": [
    "model.fit(trainx, trainy , epochs=10)"
   ]
  },
  {
   "cell_type": "code",
   "execution_count": 28,
   "metadata": {},
   "outputs": [
    {
     "name": "stdout",
     "output_type": "stream",
     "text": [
      "10000/10000 [==============================] - 1s 63us/sample - loss: 0.3256 - acc: 0.9107\n"
     ]
    },
    {
     "data": {
      "text/plain": [
       "[0.3255916844710708, 0.9107]"
      ]
     },
     "execution_count": 28,
     "metadata": {},
     "output_type": "execute_result"
    }
   ],
   "source": [
    "model.evaluate(testx,testy)"
   ]
  },
  {
   "cell_type": "code",
   "execution_count": null,
   "metadata": {},
   "outputs": [],
   "source": []
  }
 ],
 "metadata": {
  "kernelspec": {
   "display_name": "Python 3",
   "language": "python",
   "name": "python3"
  },
  "language_info": {
   "codemirror_mode": {
    "name": "ipython",
    "version": 3
   },
   "file_extension": ".py",
   "mimetype": "text/x-python",
   "name": "python",
   "nbconvert_exporter": "python",
   "pygments_lexer": "ipython3",
   "version": "3.7.3"
  }
 },
 "nbformat": 4,
 "nbformat_minor": 4
}
